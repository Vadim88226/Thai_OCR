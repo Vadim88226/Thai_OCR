{
 "cells": [
  {
   "cell_type": "code",
   "execution_count": 3,
   "metadata": {},
   "outputs": [],
   "source": [
    "import cv2\n",
    "import pytesseract\n",
    "from pytesseract import image_to_string\n",
    "from PIL import Image\n",
    "# set tesseract cmd path to tesseract ocr execute file path\n",
    "pytesseract.pytesseract.tesseract_cmd = r'C:\\Program Files\\Tesseract-OCR\\tesseract.exe'"
   ]
  },
  {
   "cell_type": "code",
   "execution_count": 67,
   "metadata": {},
   "outputs": [],
   "source": [
    "image = cv2.imread(\"images\\\\29 31.jpg\")\n",
    "image = gray = cv2.cvtColor(image, cv2.COLOR_BGR2GRAY)"
   ]
  },
  {
   "cell_type": "code",
   "execution_count": 68,
   "metadata": {},
   "outputs": [],
   "source": [
    "recog_str = image_to_string(image, lang='tha+eng', config='--psm 6')"
   ]
  },
  {
   "cell_type": "code",
   "execution_count": 69,
   "metadata": {},
   "outputs": [
    {
     "name": "stdout",
     "output_type": "stream",
     "text": [
      "น\n",
      "2 ท\n",
      "SCB+ .~\n",
      "2L3\n",
      "ก\n",
      "@ โอนเงินสําเร็จ\n",
      "06 มิ.ย. 2563 - 10:43\n",
      "รหัสอ้างอิง: 2020060620ป450(งก>%ล@ค335รฮ่ท\n",
      "จาก                  @ บนางสาว กาญจนา สุขสาคร\n",
      "Xxx—xxx916—3\n",
      "ไปยัง  นาง สมใจ ผเดิมชิต\n",
      "0508608632\n",
      "จํานวนเงิน                              6,400.00\n",
      "ผู้รับเงินสามารถสแกนคิวอาร์โค้ดนีเพือ 6ด\n",
      "ตรวจสอบสถานะการโอนเงิน             เตร\n",
      "[ต]:: ร:\n",
      "ส๕๕จ\n",
      "Take it          {%@\n",
      "6๓5         แล่\n",
      "»     ‘,ﬂ\"‘\n",
      "แอ       .\n",
      "\f",
      "\n"
     ]
    }
   ],
   "source": [
    "print(recog_str)"
   ]
  },
  {
   "cell_type": "code",
   "execution_count": null,
   "metadata": {},
   "outputs": [],
   "source": []
  }
 ],
 "metadata": {
  "kernelspec": {
   "display_name": "thai_ocr_env",
   "language": "python",
   "name": "thai_ocr_env"
  },
  "language_info": {
   "codemirror_mode": {
    "name": "ipython",
    "version": 3
   },
   "file_extension": ".py",
   "mimetype": "text/x-python",
   "name": "python",
   "nbconvert_exporter": "python",
   "pygments_lexer": "ipython3",
   "version": "3.8.1"
  }
 },
 "nbformat": 4,
 "nbformat_minor": 4
}
